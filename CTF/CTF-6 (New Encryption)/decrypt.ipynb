{
 "cells": [
  {
   "cell_type": "markdown",
   "metadata": {},
   "source": [
    "### Reading File\n"
   ]
  },
  {
   "cell_type": "code",
   "execution_count": 1,
   "metadata": {},
   "outputs": [],
   "source": [
    "import string\n",
    "file = open(\"cipher.txt\", \"r\")\n",
    "plain = file.read()\n",
    "file.close()"
   ]
  },
  {
   "cell_type": "markdown",
   "metadata": {},
   "source": [
    "### Constants"
   ]
  },
  {
   "cell_type": "code",
   "execution_count": 2,
   "metadata": {},
   "outputs": [],
   "source": [
    "\n",
    "# plain = 'jhigkgbgohlghpjplb'\n",
    "START = ord(\"a\")\n",
    "CHARSET = string.ascii_lowercase[:16]"
   ]
  },
  {
   "cell_type": "markdown",
   "metadata": {},
   "source": [
    "### Functions\n",
    "1. Inverse Caesar Shift\n",
    "2. Decoding Base 16"
   ]
  },
  {
   "cell_type": "code",
   "execution_count": 3,
   "metadata": {},
   "outputs": [],
   "source": [
    "def inverse_caesar_shift(c, k):\n",
    "\treturn CHARSET[(ord(c) - ord(k)) % len(CHARSET)]\n",
    "\n",
    "def decode_b16(encoded):\n",
    "    decoded = \"\"\n",
    "    for i in range(0, len(encoded), 2):\n",
    "        word = ord(encoded[i]) - START\n",
    "        word = word<<4\n",
    "        word = word +ord(encoded[i+1]) - START\n",
    "        decoded += chr(word)\n",
    "    return decoded"
   ]
  },
  {
   "cell_type": "markdown",
   "metadata": {},
   "source": [
    "\n",
    "##### Applying inverse caesar shift"
   ]
  },
  {
   "cell_type": "code",
   "execution_count": 4,
   "metadata": {},
   "outputs": [
    {
     "name": "stdout",
     "output_type": "stream",
     "text": [
      "fegigfcagfgogfgngjgfhdcagbhcgfcagngbglgjgoghcagbcagngphggfcocafhgfcagogfgfgecahegpcagbgdhecagggbhdheco\n"
     ]
    }
   ],
   "source": [
    "key = \"e\"\n",
    "dec = \"\"\n",
    "for i, c in enumerate(plain):\n",
    "\tdec += inverse_caesar_shift(c, key[i % len(key)])\n",
    "print(dec)\n"
   ]
  },
  {
   "cell_type": "markdown",
   "metadata": {},
   "source": [
    "\n",
    "##### Decoding caesar decrypted text"
   ]
  },
  {
   "cell_type": "code",
   "execution_count": 5,
   "metadata": {},
   "outputs": [
    {
     "name": "stdout",
     "output_type": "stream",
     "text": [
      "The enemies are making a move. We need to act fast.\n"
     ]
    }
   ],
   "source": [
    "decrypted = decode_b16(dec)\n",
    "print(decrypted)"
   ]
  }
 ],
 "metadata": {
  "kernelspec": {
   "display_name": "Python 3",
   "language": "python",
   "name": "python3"
  },
  "language_info": {
   "codemirror_mode": {
    "name": "ipython",
    "version": 3
   },
   "file_extension": ".py",
   "mimetype": "text/x-python",
   "name": "python",
   "nbconvert_exporter": "python",
   "pygments_lexer": "ipython3",
   "version": "3.10.11"
  }
 },
 "nbformat": 4,
 "nbformat_minor": 2
}
