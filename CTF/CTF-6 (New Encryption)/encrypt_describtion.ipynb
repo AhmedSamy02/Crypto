{
 "cells": [
  {
   "cell_type": "code",
   "execution_count": 1,
   "metadata": {},
   "outputs": [],
   "source": [
    "import string\n",
    "\n",
    "START = ord(\"a\")\n",
    "CHARSET = string.ascii_lowercase[:16]"
   ]
  },
  {
   "cell_type": "code",
   "execution_count": 2,
   "metadata": {},
   "outputs": [],
   "source": [
    "def encode_b16(plain):\n",
    "\tencoded = \"\"\n",
    "\tfor c in plain:\n",
    "\t\tbinary = \"{0:08b}\".format(ord(c))\n",
    "        #Add MSB 4 bits to LSB 4 bits\n",
    "\t\tencoded += (CHARSET[int(binary[:4], 2)] + CHARSET[int(binary[4:], 2)])\n",
    "\treturn encoded\n",
    "\n",
    "def caesar_shift(c, k):\n",
    "\treturn CHARSET[(ord(c) + ord(k) - 2 * START) % len(CHARSET)]\n"
   ]
  },
  {
   "cell_type": "markdown",
   "metadata": {},
   "source": [
    "### Encode the key using base16 description\n",
    "1. Given text\n",
    "2. Convert each character to binary\n",
    "3. Take the first 4 bits and the last 4 bits\n",
    "4. Convert the 4 bits to decimal\n",
    "5. Use the decimal value as an index to the CHARSET\n",
    "##### Hint : key is a single letter"
   ]
  },
  {
   "cell_type": "code",
   "execution_count": 3,
   "metadata": {},
   "outputs": [
    {
     "name": "stdout",
     "output_type": "stream",
     "text": [
      "hdgfgdhcgfheglgfhj\n"
     ]
    }
   ],
   "source": [
    "flag = \"secretkey\"\n",
    "key = \"secretkey\"\n",
    "b16 = encode_b16(flag)\n",
    "print (b16)"
   ]
  },
  {
   "cell_type": "markdown",
   "metadata": {},
   "source": [
    "### Encode the plaintext \n",
    "Using caesar shift with base16 encrypted key"
   ]
  },
  {
   "cell_type": "code",
   "execution_count": 4,
   "metadata": {},
   "outputs": [
    {
     "name": "stdout",
     "output_type": "stream",
     "text": [
      "jhigkgbgohlghpjplb\n"
     ]
    }
   ],
   "source": [
    "enc = \"\"\n",
    "for i, c in enumerate(b16):\n",
    "\tenc += caesar_shift(c, key[i % len(key)])\n",
    "print(enc)"
   ]
  }
 ],
 "metadata": {
  "kernelspec": {
   "display_name": "Python 3",
   "language": "python",
   "name": "python3"
  },
  "language_info": {
   "codemirror_mode": {
    "name": "ipython",
    "version": 3
   },
   "file_extension": ".py",
   "mimetype": "text/x-python",
   "name": "python",
   "nbconvert_exporter": "python",
   "pygments_lexer": "ipython3",
   "version": "3.10.11"
  }
 },
 "nbformat": 4,
 "nbformat_minor": 2
}
